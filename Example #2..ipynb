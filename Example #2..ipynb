{
  "nbformat": 4,
  "nbformat_minor": 0,
  "metadata": {
    "colab": {
      "name": "Untitled10.ipynb",
      "version": "0.3.2",
      "provenance": [],
      "include_colab_link": true
    },
    "kernelspec": {
      "name": "python2",
      "display_name": "Python 2"
    }
  },
  "cells": [
    {
      "cell_type": "markdown",
      "metadata": {
        "id": "view-in-github",
        "colab_type": "text"
      },
      "source": [
        "<a href=\"https://colab.research.google.com/github/Mustafaieva/03_Strings/blob/master/Example%20%232..ipynb\" target=\"_parent\"><img src=\"https://colab.research.google.com/assets/colab-badge.svg\" alt=\"Open In Colab\"/></a>"
      ]
    },
    {
      "metadata": {
        "id": "6hNk5tF3eksS",
        "colab_type": "code",
        "colab": {}
      },
      "cell_type": "code",
      "source": [
        "#include <stdio.h>\n",
        "\n",
        "int main()\n",
        "{\n",
        "    char wrd[20];\n",
        "    printf(\"Input the word: \");\n",
        "    scanf(\"%s\", wrd);\n",
        "\n",
        "    int i;\n",
        "\n",
        "    for (i = 0 ; wrd[i] != '\\0' ; i++)\n",
        "    {\n",
        "        printf(\"%c\", wrd[i]);\n",
        "    }\n",
        "    printf(\"\\n\\n\");\n",
        "return 0;\n",
        "}\n"
      ],
      "execution_count": 0,
      "outputs": []
    },
    {
      "metadata": {
        "id": "KgRXDClRelzo",
        "colab_type": "text"
      },
      "cell_type": "markdown",
      "source": [
        "# Null Terminator in a C string\n",
        "In this example we entered the word:\n",
        "\n",
        "> printf(\"Input the word: \");\n",
        "\n",
        "    scanf(\"%s\", wrd);\n",
        "    \n",
        "And this loop will print the content of string  'wrd':\n",
        "\n",
        ">  for (i = 0 ; wrd[i] != '\\0' ; i++)\n",
        "    {\n",
        "        printf(\"%c\", wrd[i]);\n",
        "    }\n",
        "    printf(\"\\n\\n\"); \n",
        "    \n",
        "'\\0'  is used to show that the string is completed. It marks the end of the string.\n",
        "     \n"
      ]
    }
  ]
}