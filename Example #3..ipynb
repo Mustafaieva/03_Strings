{
  "nbformat": 4,
  "nbformat_minor": 0,
  "metadata": {
    "colab": {
      "name": "Untitled11.ipynb",
      "version": "0.3.2",
      "provenance": [],
      "include_colab_link": true
    },
    "kernelspec": {
      "name": "python2",
      "display_name": "Python 2"
    }
  },
  "cells": [
    {
      "cell_type": "markdown",
      "metadata": {
        "id": "view-in-github",
        "colab_type": "text"
      },
      "source": [
        "<a href=\"https://colab.research.google.com/github/Mustafaieva/03_Strings/blob/master/Example%20%233..ipynb\" target=\"_parent\"><img src=\"https://colab.research.google.com/assets/colab-badge.svg\" alt=\"Open In Colab\"/></a>"
      ]
    },
    {
      "metadata": {
        "id": "h_-0P-Y0uAVV",
        "colab_type": "code",
        "colab": {}
      },
      "cell_type": "code",
      "source": [
        "#include <stdio.h>\n",
        "\n",
        "int main() {\n",
        "    char wrd[20];\n",
        "    int N;\n",
        "\n",
        "    int i;\n",
        "\n",
        "    printf(\"Input the word: \");\n",
        "    scanf(\"%s\", wrd);\n",
        "    printf(\"The entered word: %s\\n\", wrd);\n",
        "\n",
        "\n",
        "    N=0;\n",
        "\n",
        "    while(wrd[N]!='\\0')\n",
        "    {\n",
        "        N++;\n",
        "    }\n",
        "    printf(\"Number of characters: %d\\n\", N);\n",
        "\n",
        "    for (N = 0 ; wrd[N] != '\\0' ; N++)\n",
        "    {\n",
        "\n",
        "    }\n",
        "    printf(\"Number of characters: %d\\n\", N);\n",
        "\n",
        "    printf(\"The characters of the string in reverse are: \");\n",
        "    for (i = N-1 ; i >= 0; i--)\n",
        "    {\n",
        "        printf(\"%c\", wrd[i]);\n",
        "    }\n",
        "    printf(\"\\n\");\n",
        "\n",
        "\n",
        "return 0;\n",
        "}"
      ],
      "execution_count": 0,
      "outputs": []
    },
    {
      "metadata": {
        "id": "iCnHj3w7w-ZV",
        "colab_type": "text"
      },
      "cell_type": "markdown",
      "source": [
        "# Count characters and  print string in reverse order\n",
        "\n",
        "This code tells the compiler to count the number of characters:\n",
        "\n",
        "> N=0;\n",
        "    \n",
        "    while(wrd[n]!='\\0')\n",
        "    {\n",
        "        N++;\n",
        "    }\n",
        "    printf(\"Number of characters: %d\\n\", N);\n",
        "\n",
        "An empty loop only increases the number of letters:\n",
        "\n",
        "\n",
        ">  for (N = 0 ; kelime[N] != '\\0' ; N++)\n",
        "    {\n",
        "\n",
        "    }\n",
        "    printf(\"Number of characters: %d\\n\", N);\n",
        "\n",
        "Traverse string from end :\n",
        "\n",
        "\n",
        "> for (i = N-1 ; i >= 0; i--)\n",
        "    {\n",
        "        printf(\"%c\", kelime[i]);\n",
        "    }\n",
        "    printf(\"\\n\");\n",
        "\n"
      ]
    }
  ]
}