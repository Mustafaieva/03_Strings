{
  "nbformat": 4,
  "nbformat_minor": 0,
  "metadata": {
    "colab": {
      "name": "Untitled9.ipynb",
      "version": "0.3.2",
      "provenance": [],
      "include_colab_link": true
    },
    "kernelspec": {
      "name": "python2",
      "display_name": "Python 2"
    }
  },
  "cells": [
    {
      "cell_type": "markdown",
      "metadata": {
        "id": "view-in-github",
        "colab_type": "text"
      },
      "source": [
        "<a href=\"https://colab.research.google.com/github/Mustafaieva/03_Strings/blob/master/Example%20%233.ipynb\" target=\"_parent\"><img src=\"https://colab.research.google.com/assets/colab-badge.svg\" alt=\"Open In Colab\"/></a>"
      ]
    },
    {
      "metadata": {
        "id": "Swt8ku7bX3GB",
        "colab_type": "code",
        "colab": {}
      },
      "cell_type": "code",
      "source": [
        "#include <stdio.h>\n",
        "\n",
        "int main()\n",
        "{\n",
        "    char wrd[20];\n",
        "\n",
        "    printf(\"Input the word: \");\n",
        "    scanf(\"%s\", wrd);\n",
        "\n",
        "    int i;\n",
        "\n",
        "    for (i=0; i<20; i++)\n",
        "    {\n",
        "        printf(\"%c\", wrd[i]);\n",
        "    }\n",
        "    printf(\"\\n\\n\");\n",
        "\n",
        "return 0;\n",
        "}\n"
      ],
      "execution_count": 0,
      "outputs": []
    },
    {
      "metadata": {
        "id": "fUw8vDXCbeE1",
        "colab_type": "text"
      },
      "cell_type": "markdown",
      "source": [
        "# Null Terminator in a C string\n",
        "\n",
        "In this example we entered the word:\n",
        "\n",
        "> printf(\"Input the word: \");\n",
        "\n",
        "    scanf(\"%s\", wrd);\n",
        "    \n",
        "In the above example in for loop the code prints the entered value.\n",
        "\n",
        "Note: If we print all characters completely, the part not entered will be random."
      ]
    }
  ]
}