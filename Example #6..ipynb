{
  "nbformat": 4,
  "nbformat_minor": 0,
  "metadata": {
    "colab": {
      "name": "Untitled14.ipynb",
      "version": "0.3.2",
      "provenance": [],
      "include_colab_link": true
    },
    "kernelspec": {
      "name": "python2",
      "display_name": "Python 2"
    }
  },
  "cells": [
    {
      "cell_type": "markdown",
      "metadata": {
        "id": "view-in-github",
        "colab_type": "text"
      },
      "source": [
        "<a href=\"https://colab.research.google.com/github/Mustafaieva/03_Strings/blob/master/Example%20%236..ipynb\" target=\"_parent\"><img src=\"https://colab.research.google.com/assets/colab-badge.svg\" alt=\"Open In Colab\"/></a>"
      ]
    },
    {
      "metadata": {
        "id": "1Tf5-IRP9LsN",
        "colab_type": "code",
        "colab": {}
      },
      "cell_type": "code",
      "source": [
        "#include <stdio.h>\n",
        "\n",
        "int main()\n",
        "{\n",
        "    char str1[100];\n",
        "    char str2[50];\n",
        "    printf(\"Input the string: \");\n",
        "    fgets(str1, 50, stdin);\n",
        "    printf(\"Input the string to add: \");\n",
        "    fgets(str2, 50, stdin);\n",
        "\n",
        "    string_toadd(str1, str2);\n",
        "    printf(\"Second string was added to the first string: \\n\\n\");\n",
        "    puts(str1);\n",
        "return 0;\n",
        "}\n",
        "    int N(const char *s) {\n",
        "    int i;\n",
        "    for (i = 0 ; s[i] != '\\0' ; i++)\n",
        "        {\n",
        "        }\n",
        "return i;\n",
        "}\n",
        "\n",
        "    void string_toadd(char *initial, const char *final1)\n",
        "    {\n",
        "        int initial_N = N(initial);\n",
        "        int final_N = N(final1);\n",
        "\n",
        "        int i;\n",
        "        for (i = 0 ; i < final_N ; i++)\n",
        "       initial[i+initial_N] = final1[i];\n",
        "        initial[initial_N+final_N] = '\\0';\n",
        "\n",
        "     }\n"
      ],
      "execution_count": 0,
      "outputs": []
    },
    {
      "metadata": {
        "id": "9Ft8IDrRGNI_",
        "colab_type": "text"
      },
      "cell_type": "markdown",
      "source": [
        "# String Examples in C Programming\n",
        "In this example we entered two strings:\n",
        "\n",
        "\n",
        "> fgets(str1, 50, stdin);\n",
        "\n",
        ".fgets(str2, 50, stdin);\n",
        "\n",
        "In this function the action is not performed and it is considered:\n",
        "\n",
        ">  int N(const char *s) {\n",
        "    int i;\n",
        "    for (i = 0 ; s[i] != '\\0' ; i++)\n",
        "        {\n",
        "        }\n",
        "return i;\n",
        "Add the final string to the initial string:\n",
        "\n",
        ">  void string_toadd(char *initial, const char *final1)\n",
        "    {\n",
        "        int initial_N = N(initial);\n",
        "        int final_N = N(final1);\n",
        "\n",
        "        int i;\n",
        "        for (i = 0 ; i < final_N ; i++)\n",
        "       initial[i+initial_N] = final1[i];\n",
        "        initial[initial_N+final_N] = '\\0';\n",
        "\n",
        "     }\n",
        "\n",
        "\n",
        "\n",
        "\n",
        "\n",
        "\n",
        "\n"
      ]
    }
  ]
}