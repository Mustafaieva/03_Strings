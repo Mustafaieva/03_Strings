{
  "nbformat": 4,
  "nbformat_minor": 0,
  "metadata": {
    "colab": {
      "name": "Untitled13.ipynb",
      "version": "0.3.2",
      "provenance": [],
      "include_colab_link": true
    },
    "kernelspec": {
      "name": "python2",
      "display_name": "Python 2"
    }
  },
  "cells": [
    {
      "cell_type": "markdown",
      "metadata": {
        "id": "view-in-github",
        "colab_type": "text"
      },
      "source": [
        "<a href=\"https://colab.research.google.com/github/Mustafaieva/03_Strings/blob/master/Example%20%235..ipynb\" target=\"_parent\"><img src=\"https://colab.research.google.com/assets/colab-badge.svg\" alt=\"Open In Colab\"/></a>"
      ]
    },
    {
      "metadata": {
        "id": "tfyvUON66jw2",
        "colab_type": "code",
        "colab": {}
      },
      "cell_type": "code",
      "source": [
        "#include <stdio.h>\n",
        "\n",
        "int main()\n",
        "{\n",
        "    int a = 10;\n",
        "    char string[8];\n",
        "    int b = 20;\n",
        "\n",
        "    printf(\"a: %d ve b: %d\\n\\n\", a, b);\n",
        "    printf(\"Test the program by entering 8 or more characters\\n\");\n",
        "    printf(\"Input the string: \");\n",
        "    gets(string);\n",
        "\n",
        "    printf(\"The string: \");\n",
        "    puts(string);\n",
        "    printf(\"\\na: %d ve b: %d\\n\", a, b);\n",
        "return 0;\n",
        "}\n",
        "\n"
      ],
      "execution_count": 0,
      "outputs": []
    },
    {
      "metadata": {
        "id": "rdUhXr5d7BlD",
        "colab_type": "text"
      },
      "cell_type": "markdown",
      "source": [
        "# gets() problem in C\n",
        "\n",
        "gets(string); tries to put in your input array as many characters as are present in input stream : it used to be the cause of countless memory violation. "
      ]
    }
  ]
}