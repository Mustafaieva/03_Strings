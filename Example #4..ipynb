{
  "nbformat": 4,
  "nbformat_minor": 0,
  "metadata": {
    "colab": {
      "name": "Untitled12.ipynb",
      "version": "0.3.2",
      "provenance": [],
      "include_colab_link": true
    },
    "kernelspec": {
      "name": "python2",
      "display_name": "Python 2"
    }
  },
  "cells": [
    {
      "cell_type": "markdown",
      "metadata": {
        "id": "view-in-github",
        "colab_type": "text"
      },
      "source": [
        "<a href=\"https://colab.research.google.com/github/Mustafaieva/03_Strings/blob/master/Example%20%234..ipynb\" target=\"_parent\"><img src=\"https://colab.research.google.com/assets/colab-badge.svg\" alt=\"Open In Colab\"/></a>"
      ]
    },
    {
      "metadata": {
        "id": "suhaCoTnzcLd",
        "colab_type": "code",
        "colab": {}
      },
      "cell_type": "code",
      "source": [
        "#include <stdio.h>\n",
        "\n",
        "int main()\n",
        "{\n",
        "    char s[100];\n",
        "\n",
        "\n",
        "    printf(\"Input the string: \");\n",
        "    gets(s);\n",
        "\n",
        "    printf(\"The string: \");\n",
        "    puts(s);\n",
        "return 0;\n",
        "}\n"
      ],
      "execution_count": 0,
      "outputs": []
    },
    {
      "metadata": {
        "id": "ytNe3D07z7si",
        "colab_type": "text"
      },
      "cell_type": "markdown",
      "source": [
        "# gets() and puts() Functions\n",
        "\n",
        " Gets() is used to read strings which may include white spaces also.\n",
        "\n",
        "> gets(s);             // to read string\n",
        "\n",
        "And puts() is used to print this string.\n",
        "\n",
        "> puts(s);             // to print string\n",
        "\n",
        "\n"
      ]
    }
  ]
}